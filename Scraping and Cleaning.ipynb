{
 "cells": [
  {
   "cell_type": "markdown",
   "metadata": {},
   "source": [
    "### Info and How to use\n",
    "\n",
    "This script will pull any new logs placed in VODS_TO_PULL, automatically add them to VODS_PULLED, concatenate them together and clean out links and bots, before writing the end result into a new file. "
   ]
  },
  {
   "cell_type": "code",
   "execution_count": 101,
   "metadata": {},
   "outputs": [],
   "source": [
    "VODS_TO_PULL = []\n",
    "OUTPUT = \"CleanedData.txt\"\n",
    "VODS_FILE = 'vods_pulled.txt'\n",
    "with open(VODS_FILE) as f:\n",
    "    VODS_PULLED = f.readlines()\n",
    "VODS_PULLED = [int(x.strip()) for x in VODS_PULLED]\n",
    "\n",
    "with open('pulled_backup.txt', 'w') as fi:\n",
    "    for i in VODS_PULLED:\n",
    "        fi.write(\"%s\\n\" % i)\n",
    "\n",
    "import os\n",
    "import json\n",
    "import pandas as pd\n",
    "import numpy as np"
   ]
  },
  {
   "cell_type": "code",
   "execution_count": 102,
   "metadata": {},
   "outputs": [],
   "source": [
    "#Scrape Logs and update list of logs\n",
    "if VODS_TO_PULL:\n",
    "    for i in VODS_TO_PULL:\n",
    "        if i not in VODS_PULLED:\n",
    "            os.system('python3 rechat-dl.py ' + str(i))\n",
    "            VODS_PULLED.append(i)\n",
    "with open(VODS_FILE, 'w') as f:\n",
    "    for i in VODS_PULLED:\n",
    "        f.write(\"%s\\n\" % i)"
   ]
  },
  {
   "cell_type": "code",
   "execution_count": 103,
   "metadata": {},
   "outputs": [],
   "source": [
    "#read JSON logs and build into one file\n",
    "built = []\n",
    "for v in VODS_PULLED:\n",
    "    with open('rechat-%s.json' % v) as dta:\n",
    "        cur = json.load(dta)\n",
    "        built = built + cur[1:]"
   ]
  },
  {
   "cell_type": "code",
   "execution_count": 104,
   "metadata": {},
   "outputs": [],
   "source": [
    "data = pd.read_json(json.dumps(built), orient=\"columns\")"
   ]
  },
  {
   "cell_type": "code",
   "execution_count": 105,
   "metadata": {},
   "outputs": [
    {
     "data": {
      "text/plain": [
       "['Stay_Hydrated_Bot', 'hyperbotkun', 'Nightbot', 'FeenyBot', 'Zabwhee_Bot']"
      ]
     },
     "execution_count": 105,
     "metadata": {},
     "output_type": "execute_result"
    }
   ],
   "source": [
    "users = set()\n",
    "for index, row in data.iterrows():\n",
    "    users.add(row['commenter']['display_name'])\n",
    "\n",
    "[x for x in users if 'bot' in x or 'Bot' in x]"
   ]
  },
  {
   "cell_type": "code",
   "execution_count": 106,
   "metadata": {},
   "outputs": [],
   "source": [
    "#Strip Bots and links\n",
    "#TO DO More Cleaning stuff here\n",
    "KNOWN_BOTS = ['Nightbot', 'FeenyBot', 'Stay_Hydrated_Bot', 'hyperbotkun', 'Zabwhee_Bot']\n",
    "EXCLUDE_LINKS = ['twitch.tv', 'youtube.com']\n",
    "data = data[[x['display_name'] not in KNOWN_BOTS for x in data.commenter]]\n",
    "data = data[[not any([link_st in x['body'] for link_st in EXCLUDE_LINKS]) for x in data.message]]"
   ]
  },
  {
   "cell_type": "code",
   "execution_count": 107,
   "metadata": {},
   "outputs": [],
   "source": [
    "data.to_json(OUTPUT)"
   ]
  },
  {
   "cell_type": "code",
   "execution_count": null,
   "metadata": {},
   "outputs": [],
   "source": []
  }
 ],
 "metadata": {
  "kernelspec": {
   "display_name": "Python 3",
   "language": "python",
   "name": "python3"
  },
  "language_info": {
   "codemirror_mode": {
    "name": "ipython",
    "version": 3
   },
   "file_extension": ".py",
   "mimetype": "text/x-python",
   "name": "python",
   "nbconvert_exporter": "python",
   "pygments_lexer": "ipython3",
   "version": "3.6.0"
  }
 },
 "nbformat": 4,
 "nbformat_minor": 2
}
