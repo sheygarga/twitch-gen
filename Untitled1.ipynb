{
 "cells": [
  {
   "cell_type": "code",
   "execution_count": 7,
   "metadata": {},
   "outputs": [],
   "source": [
    "import pandas as pd\n",
    "import numpy as np\n",
    "#import Levenshtein as lvs\n",
    "import re\n",
    "from textgenrnn import textgenrnn\n",
    "\n",
    "textgen = textgenrnn('textgenrnn_weights.hdf5')"
   ]
  },
  {
   "cell_type": "code",
   "execution_count": 8,
   "metadata": {},
   "outputs": [
    {
     "name": "stdout",
     "output_type": "stream",
     "text": [
      "0 texts collected.\n"
     ]
    },
    {
     "ename": "ValueError",
     "evalue": "List at arrays cannot be empty",
     "output_type": "error",
     "traceback": [
      "\u001b[1;31m---------------------------------------------------------------------------\u001b[0m",
      "\u001b[1;31mValueError\u001b[0m                                Traceback (most recent call last)",
      "\u001b[1;32m<ipython-input-8-5a9b1c8fce13>\u001b[0m in \u001b[0;36m<module>\u001b[1;34m()\u001b[0m\n\u001b[1;32m----> 1\u001b[1;33m \u001b[0mtextgen\u001b[0m\u001b[1;33m.\u001b[0m\u001b[0mtrain_from_file\u001b[0m\u001b[1;33m(\u001b[0m\u001b[1;34m'CleanedData.txt'\u001b[0m\u001b[1;33m,\u001b[0m \u001b[0mgen_epochs\u001b[0m\u001b[1;33m=\u001b[0m\u001b[1;36m2\u001b[0m\u001b[1;33m)\u001b[0m\u001b[1;33m\u001b[0m\u001b[0m\n\u001b[0m",
      "\u001b[1;32m~\\anaconda\\Anaconda3\\envs\\dev\\lib\\site-packages\\textgenrnn\\textgenrnn.py\u001b[0m in \u001b[0;36mtrain_from_file\u001b[1;34m(self, file_path, header, delim, new_model, context, is_csv, **kwargs)\u001b[0m\n\u001b[0;32m    327\u001b[0m                 texts, context_labels=context_labels, **kwargs)\n\u001b[0;32m    328\u001b[0m         \u001b[1;32melse\u001b[0m\u001b[1;33m:\u001b[0m\u001b[1;33m\u001b[0m\u001b[0m\n\u001b[1;32m--> 329\u001b[1;33m             \u001b[0mself\u001b[0m\u001b[1;33m.\u001b[0m\u001b[0mtrain_on_texts\u001b[0m\u001b[1;33m(\u001b[0m\u001b[0mtexts\u001b[0m\u001b[1;33m,\u001b[0m \u001b[0mcontext_labels\u001b[0m\u001b[1;33m=\u001b[0m\u001b[0mcontext_labels\u001b[0m\u001b[1;33m,\u001b[0m \u001b[1;33m**\u001b[0m\u001b[0mkwargs\u001b[0m\u001b[1;33m)\u001b[0m\u001b[1;33m\u001b[0m\u001b[0m\n\u001b[0m\u001b[0;32m    330\u001b[0m \u001b[1;33m\u001b[0m\u001b[0m\n\u001b[0;32m    331\u001b[0m     \u001b[1;32mdef\u001b[0m \u001b[0mtrain_from_largetext_file\u001b[0m\u001b[1;33m(\u001b[0m\u001b[0mself\u001b[0m\u001b[1;33m,\u001b[0m \u001b[0mfile_path\u001b[0m\u001b[1;33m,\u001b[0m \u001b[0mnew_model\u001b[0m\u001b[1;33m=\u001b[0m\u001b[1;32mTrue\u001b[0m\u001b[1;33m,\u001b[0m \u001b[1;33m**\u001b[0m\u001b[0mkwargs\u001b[0m\u001b[1;33m)\u001b[0m\u001b[1;33m:\u001b[0m\u001b[1;33m\u001b[0m\u001b[0m\n",
      "\u001b[1;32m~\\anaconda\\Anaconda3\\envs\\dev\\lib\\site-packages\\textgenrnn\\textgenrnn.py\u001b[0m in \u001b[0;36mtrain_on_texts\u001b[1;34m(self, texts, context_labels, batch_size, num_epochs, verbose, new_model, gen_epochs, train_size, max_gen_length, validation, dropout, via_new_model, save_epochs, multi_gpu, **kwargs)\u001b[0m\n\u001b[0;32m    141\u001b[0m         indices_list = [np.meshgrid(np.array(i), np.arange(\n\u001b[0;32m    142\u001b[0m             len(text) + 1)) for i, text in enumerate(texts)]\n\u001b[1;32m--> 143\u001b[1;33m         \u001b[0mindices_list\u001b[0m \u001b[1;33m=\u001b[0m \u001b[0mnp\u001b[0m\u001b[1;33m.\u001b[0m\u001b[0mblock\u001b[0m\u001b[1;33m(\u001b[0m\u001b[0mindices_list\u001b[0m\u001b[1;33m)\u001b[0m\u001b[1;33m\u001b[0m\u001b[0m\n\u001b[0m\u001b[0;32m    144\u001b[0m \u001b[1;33m\u001b[0m\u001b[0m\n\u001b[0;32m    145\u001b[0m         \u001b[1;31m# If a single text, there will be 2 extra indices, so remove them\u001b[0m\u001b[1;33m\u001b[0m\u001b[1;33m\u001b[0m\u001b[0m\n",
      "\u001b[1;32m~\\anaconda\\Anaconda3\\envs\\dev\\lib\\site-packages\\numpy\\core\\shape_base.py\u001b[0m in \u001b[0;36mblock\u001b[1;34m(arrays)\u001b[0m\n\u001b[0;32m    816\u001b[0m \u001b[1;33m\u001b[0m\u001b[0m\n\u001b[0;32m    817\u001b[0m     \"\"\"\n\u001b[1;32m--> 818\u001b[1;33m     \u001b[0marrays\u001b[0m\u001b[1;33m,\u001b[0m \u001b[0mlist_ndim\u001b[0m\u001b[1;33m,\u001b[0m \u001b[0mresult_ndim\u001b[0m\u001b[1;33m,\u001b[0m \u001b[0mfinal_size\u001b[0m \u001b[1;33m=\u001b[0m \u001b[0m_block_setup\u001b[0m\u001b[1;33m(\u001b[0m\u001b[0marrays\u001b[0m\u001b[1;33m)\u001b[0m\u001b[1;33m\u001b[0m\u001b[0m\n\u001b[0m\u001b[0;32m    819\u001b[0m \u001b[1;33m\u001b[0m\u001b[0m\n\u001b[0;32m    820\u001b[0m     \u001b[1;31m# It was found through benchmarking that making an array of final size\u001b[0m\u001b[1;33m\u001b[0m\u001b[1;33m\u001b[0m\u001b[0m\n",
      "\u001b[1;32m~\\anaconda\\Anaconda3\\envs\\dev\\lib\\site-packages\\numpy\\core\\shape_base.py\u001b[0m in \u001b[0;36m_block_setup\u001b[1;34m(arrays)\u001b[0m\n\u001b[0;32m    852\u001b[0m         raise ValueError(\n\u001b[0;32m    853\u001b[0m             'List at {} cannot be empty'.format(\n\u001b[1;32m--> 854\u001b[1;33m                 \u001b[0m_block_format_index\u001b[0m\u001b[1;33m(\u001b[0m\u001b[0mbottom_index\u001b[0m\u001b[1;33m)\u001b[0m\u001b[1;33m\u001b[0m\u001b[0m\n\u001b[0m\u001b[0;32m    855\u001b[0m             )\n\u001b[0;32m    856\u001b[0m         )\n",
      "\u001b[1;31mValueError\u001b[0m: List at arrays cannot be empty"
     ]
    }
   ],
   "source": [
    "textgen.train_from_file('CleanedData.txt', gen_epochs=2)"
   ]
  },
  {
   "cell_type": "code",
   "execution_count": null,
   "metadata": {},
   "outputs": [],
   "source": []
  }
 ],
 "metadata": {
  "kernelspec": {
   "display_name": "Python 3",
   "language": "python",
   "name": "python3"
  },
  "language_info": {
   "codemirror_mode": {
    "name": "ipython",
    "version": 3
   },
   "file_extension": ".py",
   "mimetype": "text/x-python",
   "name": "python",
   "nbconvert_exporter": "python",
   "pygments_lexer": "ipython3",
   "version": "3.7.0"
  }
 },
 "nbformat": 4,
 "nbformat_minor": 2
}
